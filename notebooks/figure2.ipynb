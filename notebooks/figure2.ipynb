{
 "cells": [
  {
   "cell_type": "markdown",
   "id": "e539381c",
   "metadata": {},
   "source": [
    "# Random Allelic Expression in the Human Body\n",
    "### Stephanie N. Kravitz, Aaron R. Quinlan, Christopher Gregg\n",
    "\n",
    "### Prior to recreating figures, first import necessary libraries and set global plot aesthetics."
   ]
  },
  {
   "cell_type": "code",
   "execution_count": null,
   "id": "16d68720",
   "metadata": {},
   "outputs": [],
   "source": [
    "import pandas as pd\n",
    "import matplotlib.pyplot as plt\n",
    "import seaborn as sns\n",
    "import numpy as np\n",
    "import scipy.stats as stats\n",
    "\n",
    "plt.rcParams['pdf.fonttype'] = 42\n",
    "\n",
    "%matplotlib inline\n",
    "%matplotlib nbagg\n",
    "\n",
    "%cd /Users/snkravitz/Documents/Projects_and_Data/GTEx_HaplotypeExpression/bb_test_results/qvalues/gene_allele_ratios"
   ]
  },
  {
   "cell_type": "markdown",
   "id": "d42a9eba",
   "metadata": {},
   "source": [
    "## Figure 2A: Percent of Females with Significant RAE KDE plot"
   ]
  },
  {
   "cell_type": "code",
   "execution_count": null,
   "id": "4de2618f",
   "metadata": {},
   "outputs": [],
   "source": []
  },
  {
   "cell_type": "markdown",
   "id": "a2e64baa",
   "metadata": {},
   "source": [
    "## Figure 2A (inset): Sensitivity and Specificity Curves for Autosomal vs. XCI genes"
   ]
  },
  {
   "cell_type": "code",
   "execution_count": null,
   "id": "c01571a5",
   "metadata": {},
   "outputs": [],
   "source": []
  },
  {
   "cell_type": "markdown",
   "id": "13653ba3",
   "metadata": {},
   "source": [
    "## Figure 2B: Autosomal vs. XCI Z-Scores"
   ]
  },
  {
   "cell_type": "code",
   "execution_count": null,
   "id": "f261a572",
   "metadata": {},
   "outputs": [],
   "source": []
  },
  {
   "cell_type": "markdown",
   "id": "e83bdd0e",
   "metadata": {},
   "source": [
    "## Figure 2C: Percent of Biallelic, RAE, and Not Categorized Genes in Females and Males"
   ]
  },
  {
   "cell_type": "code",
   "execution_count": null,
   "id": "53495eba",
   "metadata": {},
   "outputs": [],
   "source": []
  },
  {
   "cell_type": "markdown",
   "id": "7c09eb89",
   "metadata": {},
   "source": [
    "## Figure 2D: Venn Diagram of Biallelic and RAE genes in Females and Male samples"
   ]
  },
  {
   "cell_type": "code",
   "execution_count": null,
   "id": "89d59894",
   "metadata": {},
   "outputs": [],
   "source": []
  },
  {
   "cell_type": "markdown",
   "id": "e48700eb",
   "metadata": {},
   "source": [
    "## Figure 2I: TADs enriched for RAE and Biallelic Genes"
   ]
  },
  {
   "cell_type": "code",
   "execution_count": null,
   "id": "53086ef6",
   "metadata": {},
   "outputs": [],
   "source": []
  }
 ],
 "metadata": {
  "kernelspec": {
   "display_name": "Python 3 (ipykernel)",
   "language": "python",
   "name": "python3"
  },
  "language_info": {
   "codemirror_mode": {
    "name": "ipython",
    "version": 3
   },
   "file_extension": ".py",
   "mimetype": "text/x-python",
   "name": "python",
   "nbconvert_exporter": "python",
   "pygments_lexer": "ipython3",
   "version": "3.9.7"
  }
 },
 "nbformat": 4,
 "nbformat_minor": 5
}
