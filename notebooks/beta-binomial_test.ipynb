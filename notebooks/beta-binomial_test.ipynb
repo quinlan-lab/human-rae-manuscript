{
 "cells": [
  {
   "cell_type": "markdown",
   "id": "61ce6297",
   "metadata": {},
   "source": [
    "# Random Allelic Expression in the Human Body\n",
    "### Stephanie N. Kravitz, Aaron R. Quinlan, Christopher Gregg"
   ]
  },
  {
   "cell_type": "markdown",
   "id": "20de37aa",
   "metadata": {},
   "source": [
    "#### This notebook provides the code to perform the binomial vs. beta-binomial hypothesis testing to identify random allelic expressed genes compared to biallelic expressed genes for a single GTEx individual. \n",
    "\n",
    "#### The analysis requires two dataframes, each with gene IDs as rows and tissues/samples as columns. One dataframe comprises of allele-specific expression counts (\"Allele 1\") for each gene, and the other file should consist of total counts (i.e. \"Allele 1\" + \"Allele 2\" counts). "
   ]
  },
  {
   "cell_type": "markdown",
   "id": "8a66d3db",
   "metadata": {},
   "source": [
    "### First import necessary libraries:"
   ]
  },
  {
   "cell_type": "code",
   "execution_count": 7,
   "id": "27895cb7",
   "metadata": {},
   "outputs": [
    {
     "name": "stdout",
     "output_type": "stream",
     "text": [
      "The rpy2.ipython extension is already loaded. To reload it, use:\n",
      "  %reload_ext rpy2.ipython\n"
     ]
    }
   ],
   "source": [
    "## To run R code in jupyter notebook, first install the the rpy2 library.\n",
    "\n",
    "## Run the following: \n",
    "\n",
    "# ! pip3 install rpy2\n",
    "\n",
    "\n",
    "## Once rpy2 is installed, execute the following to load the library:\n",
    "%load_ext rpy2.ipython"
   ]
  },
  {
   "cell_type": "code",
   "execution_count": 2,
   "id": "d4a41a94",
   "metadata": {
    "collapsed": true
   },
   "outputs": [
    {
     "name": "stderr",
     "output_type": "stream",
     "text": [
      "R[write to console]: Loading required package: VGAM\n",
      "\n",
      "R[write to console]: Loading required package: stats4\n",
      "\n",
      "R[write to console]: Loading required package: splines\n",
      "\n"
     ]
    }
   ],
   "source": [
    "%%R\n",
    "\n",
    "## Libraries:\n",
    "require(VGAM)\n",
    "options(warn=-1)\n",
    "\n",
    "library(\"qvalue\")"
   ]
  },
  {
   "cell_type": "markdown",
   "id": "00d5fdff",
   "metadata": {},
   "source": [
    "### Read in our data files of \"Allele 1\" and \"Total\" allelic expression counts:"
   ]
  },
  {
   "cell_type": "code",
   "execution_count": 44,
   "id": "fbdc29b5",
   "metadata": {},
   "outputs": [
    {
     "name": "stdout",
     "output_type": "stream",
     "text": [
      "                   OVARY SKINS LUNG BRNCDT ARTCRN VAGINA MSCLSK BRNSPC BRNCHA\n",
      "ENSG00000100030.14   252   466  427   1427    422    290     99    605    417\n",
      "ENSG00000185829.17    46    38   24     29     25     56     16     23     57\n",
      "ENSG00000178184.15    97   339   33     32     70    133     NA     40     21\n",
      "ENSG00000102081.13    64    34   61     49     50     45     14     47     28\n",
      "                   BRNNCC HRTAA THYROID LIVER BRNPTM FIBRBLS NERVET PTTARY\n",
      "ENSG00000100030.14    680   428     532   243   1156     460    424    356\n",
      "ENSG00000185829.17     27    26      94    22     25      11     25     41\n",
      "ENSG00000178184.15     38    13     101    35     24      20     60     70\n",
      "ENSG00000102081.13     59    42     131    58     43      NA     37     71\n",
      "                   BRNCHB ADPSBQ WHLBLD BRNCTXB ESPGEJ BRNSNG ARTTBL BRNHPT\n",
      "ENSG00000100030.14    777    411    407     925    270    603    479    877\n",
      "ENSG00000185829.17     47     26     19      22     47     14     22     14\n",
      "ENSG00000178184.15      8     29     NA      21     25     27     24     35\n",
      "ENSG00000102081.13     49     57     46      65     23     44     77     37\n",
      "                   ESPMCS BRNAMY BRNACC HRTLV UTERUS BREAST BRNHPP ARTAORT\n",
      "ENSG00000100030.14    383   1791   1856   138    670    423   1886     589\n",
      "ENSG00000185829.17     14     21     22    16     91     70     25      26\n",
      "ENSG00000178184.15    158     31     41    21    128    196     79      34\n",
      "ENSG00000102081.13     30     37     63    15    104     91     35      89\n",
      "                   BRNCTXA\n",
      "ENSG00000100030.14     655\n",
      "ENSG00000185829.17      21\n",
      "ENSG00000178184.15      37\n",
      "ENSG00000102081.13      36\n"
     ]
    }
   ],
   "source": [
    "%%R\n",
    "\n",
    "## For the purpose of this exercise, we will just run the test on a few genes\n",
    "\n",
    "## \"Allele 1\" counts:\n",
    "file_y <- '../data/GTEX-YFC4/GTEX-YFC4_to-plot_counts.y.txt'\n",
    "## \"Total\" counts:\n",
    "file_tot <- '../data/GTEX-YFC4/GTEX-YFC4_to-plot_counts.tot.txt'\n",
    "\n",
    "y <- read.table(file_y, sep=\"\\t\", header=T, row.names=1)\n",
    "n <- read.table(file_tot, sep=\"\\t\", header=T, row.names=1)\n",
    "\n",
    "#print(head(y))\n",
    "\n",
    "## Drop GENE_NAME columns:\n",
    "y <- subset(y, select = -c(GENE_NAME))\n",
    "n <- subset(n, select = -c(GENE_NAME))\n",
    "\n",
    "print(head(y))\n"
   ]
  },
  {
   "cell_type": "markdown",
   "id": "1d377ddb",
   "metadata": {},
   "source": [
    "### Function to perform the binomial and beta-binomial tests:"
   ]
  },
  {
   "cell_type": "code",
   "execution_count": 47,
   "id": "7ec2d3d8",
   "metadata": {},
   "outputs": [],
   "source": [
    "%%R \n",
    "\n",
    "## This function takes in: \n",
    "# allele counts (xx)\n",
    "# total counts (nn)\n",
    "# \"do beta-binomial\" --> whether to perform the beta-binomial test, or simulated 'null' hypothesis, \n",
    "# which is mostly for data QC purposes to make sure the test is working correctly\n",
    "# \"Simulate the Null Hypothesis\" --> if True, this calculates the binomial distribution from the mean allele ratio (probability)\n",
    "\n",
    "bb.test <- function(xx, nn, dobb=T, simH0=F) \n",
    "{\n",
    "    x = xx[!is.na(xx)]\n",
    "    #print(x)\n",
    "    n = nn[!is.na(nn)]\n",
    "    #print(n)\n",
    "    p = sum(x)/sum(n)\n",
    "    #print(p)\n",
    "    \n",
    "\n",
    "    # This option allows us to simulated under the null\n",
    "    # hypothesis to check that the test is working correctly.\n",
    "    if (simH0)\n",
    "    {\n",
    "      # This line replaces the observed data with # observations simulated under the null.\n",
    "        x = rbinom(length(n),n,p)\n",
    "    }\n",
    "\n",
    "    ll0 = sum(log(dbinom(x,n,p)))\n",
    "    df0 = 1\n",
    "\n",
    "    if (dobb)\n",
    "    {\n",
    "        # Do the test with Beta Binomial alternative.\n",
    "        fit = vglm(cbind(x,n-x) ~ 1, family=betabinomial)\n",
    "        mu = Coef(fit)[1]\n",
    "        rho = Coef(fit)[2]\n",
    "        ll1 = sum(log(dbetabinom(x,n,mu,rho)))\n",
    "        df1 = 2\n",
    "    }\n",
    "\n",
    "    else\n",
    "    {\n",
    "        # Do the test with free alternative.\n",
    "        ll1 = sum(log(dbinom(x,n,x/n)))\n",
    "        df1 = length(x)\n",
    "    }\n",
    "    \n",
    "    fit <- pchisq(2*(ll1-ll0), df1-df0, lower.tail=F)\n",
    "}"
   ]
  },
  {
   "cell_type": "markdown",
   "id": "58d5b673",
   "metadata": {},
   "source": [
    "### Perform the test on each gene: "
   ]
  },
  {
   "cell_type": "code",
   "execution_count": 50,
   "id": "21b2d2a8",
   "metadata": {},
   "outputs": [
    {
     "name": "stdout",
     "output_type": "stream",
     "text": [
      "             GENE_ID tissue_num    bb_null      bb_test\n",
      "1 ENSG00000100030.14         34 0.94736136 1.000000e+00\n",
      "2 ENSG00000102081.13         33 0.05608945 1.008926e-17\n",
      "3 ENSG00000178184.15         32 0.04341246 5.070390e-06\n",
      "4 ENSG00000185829.17         34 0.29410716 2.468206e-01\n"
     ]
    }
   ],
   "source": [
    "%%R\n",
    "\n",
    "gene_ids <- as.vector(row.names(y))\n",
    "\n",
    "## OPTIONAL: perform the 'simulated null' biallelic data using the mean allele ratio (p) to fit the distribution\n",
    "null_results <- list()\n",
    "for (gene in gene_ids) {\n",
    "    tissue_num <- ncol(y) - sum(is.na(y[gene, ]))\n",
    "\n",
    "    fit = try(bb.test(y[gene, ], n[gene, ], dobb=T, simH0=T), TRUE)\n",
    "\n",
    "    if(isTRUE(class(fit) == \"try-error\")) { next } else {\n",
    "\n",
    "    null_results[[gene]] <- c(tissue_num, fit)\n",
    "    }\n",
    "}\n",
    "\n",
    "null_fits <- do.call(\"rbind\", null_results)\n",
    "colnames(null_fits) <- c(\"tissue_num\", \"bb_null\") # null hypothesis results\n",
    "\n",
    "\n",
    "## For the actual beta-binomial test on the data as-is:\n",
    "data_results <- list()\n",
    "for (gene in gene_ids) {\n",
    "    fit = try(bb.test(y[gene, ], n[gene, ], dobb=T, simH0=F), TRUE)\n",
    "\n",
    "    if(isTRUE(class(fit) == \"try-error\")) { next } else {\n",
    "\n",
    "    data_results[[gene]] <- c(fit)\n",
    "    }\n",
    "}\n",
    "\n",
    "data_fits <- do.call(\"rbind\", data_results)\n",
    "colnames(data_fits)[1] <- \"bb_test\" # real/observed data hypothesis results\n",
    "\n",
    "# merge both fits, by GENE_ID\n",
    "all_fits <- merge(null_fits, data_fits, by = \"row.names\", all = TRUE)\n",
    "\n",
    "colnames(all_fits) <- c(\"GENE_ID\", \"tissue_num\", \"bb_null\", \"bb_test\")\n",
    "print(all_fits)"
   ]
  },
  {
   "cell_type": "markdown",
   "id": "2f93a557",
   "metadata": {},
   "source": [
    "### Perform q-value correction on p-values for multiple-testing correction:"
   ]
  },
  {
   "cell_type": "code",
   "execution_count": 52,
   "id": "c28a6620",
   "metadata": {},
   "outputs": [
    {
     "name": "stderr",
     "output_type": "stream",
     "text": [
      "R[write to console]: Error in smooth.spline(lambda, pi0, df = smooth.df) : \n",
      "  missing or infinite values in inputs are not allowed\n",
      "\n"
     ]
    },
    {
     "name": "stdout",
     "output_type": "stream",
     "text": [
      "\n",
      "Error in smooth.spline(lambda, pi0, df = smooth.df) : \n",
      "  missing or infinite values in inputs are not allowed\n"
     ]
    },
    {
     "ename": "RInterpreterError",
     "evalue": "Failed to parse and evaluate line '\\n### Calculate q-values:\\n\\nr <- all_fits\\n\\n# Given a set of p-values, the qvalue object can be calculated by using the qvalue function:\\n\\n# Null Simulations:\\np_null <- r$bb_null\\nqobj_null <- qvalue(p = p_null)\\n\\n# Observed Data:\\np_data <- r$bb_test\\nqobj_data <- qvalue(p = p_data)\\n\\n# Once the qvalue object is created, estimates of the q-values, the proportion of true null hypotheses, and the local false discovery rates can be accessed from qobj:\\n\\n# Null Simulations:\\nnull_qvalues <- qobj_null$qvalues # q-values\\nprint(null_qvalues)\\nnull_pi0 <- qobj_null$pi0 # proportion true null hypotheses\\nnull_lfdr <- qobj_null$lfdr # local false discovery rates\\n\\n# Observed Data:\\ndata_qvalues <- qobj_data$qvalues # q-values\\ndata_pi0 <- qobj_data$pi0 # proportion true null hypotheses\\ndata_lfdr <- qobj_data$lfdr # local false discovery rates\\n\\nr_qobj <- cbind(r, null_qvalues, null_lfdr, data_qvalues, data_lfdr)\\n\\nprint(r_qobj)\\n'.\nR error message: 'Error in smooth.spline(lambda, pi0, df = smooth.df) : \\n  missing or infinite values in inputs are not allowed'",
     "output_type": "error",
     "traceback": [
      "\u001b[0;31m---------------------------------------------------------------------------\u001b[0m",
      "\u001b[0;31mRRuntimeError\u001b[0m                             Traceback (most recent call last)",
      "\u001b[0;32m~/opt/miniconda3/lib/python3.9/site-packages/rpy2/ipython/rmagic.py\u001b[0m in \u001b[0;36meval\u001b[0;34m(self, code)\u001b[0m\n\u001b[1;32m    282\u001b[0m                 \u001b[0;31m# Need the newline in case the last line in code is a comment.\u001b[0m\u001b[0;34m\u001b[0m\u001b[0;34m\u001b[0m\u001b[0m\n\u001b[0;32m--> 283\u001b[0;31m                 \u001b[0mvalue\u001b[0m\u001b[0;34m,\u001b[0m \u001b[0mvisible\u001b[0m \u001b[0;34m=\u001b[0m \u001b[0mro\u001b[0m\u001b[0;34m.\u001b[0m\u001b[0mr\u001b[0m\u001b[0;34m(\u001b[0m\u001b[0;34m\"withVisible({%s\\n})\"\u001b[0m \u001b[0;34m%\u001b[0m \u001b[0mcode\u001b[0m\u001b[0;34m)\u001b[0m\u001b[0;34m\u001b[0m\u001b[0;34m\u001b[0m\u001b[0m\n\u001b[0m\u001b[1;32m    284\u001b[0m             \u001b[0;32mexcept\u001b[0m \u001b[0;34m(\u001b[0m\u001b[0mri\u001b[0m\u001b[0;34m.\u001b[0m\u001b[0membedded\u001b[0m\u001b[0;34m.\u001b[0m\u001b[0mRRuntimeError\u001b[0m\u001b[0;34m,\u001b[0m \u001b[0mValueError\u001b[0m\u001b[0;34m)\u001b[0m \u001b[0;32mas\u001b[0m \u001b[0mexception\u001b[0m\u001b[0;34m:\u001b[0m\u001b[0;34m\u001b[0m\u001b[0;34m\u001b[0m\u001b[0m\n",
      "\u001b[0;32m~/opt/miniconda3/lib/python3.9/site-packages/rpy2/robjects/__init__.py\u001b[0m in \u001b[0;36m__call__\u001b[0;34m(self, string)\u001b[0m\n\u001b[1;32m    458\u001b[0m         \u001b[0mp\u001b[0m \u001b[0;34m=\u001b[0m \u001b[0mrinterface\u001b[0m\u001b[0;34m.\u001b[0m\u001b[0mparse\u001b[0m\u001b[0;34m(\u001b[0m\u001b[0mstring\u001b[0m\u001b[0;34m)\u001b[0m\u001b[0;34m\u001b[0m\u001b[0;34m\u001b[0m\u001b[0m\n\u001b[0;32m--> 459\u001b[0;31m         \u001b[0mres\u001b[0m \u001b[0;34m=\u001b[0m \u001b[0mself\u001b[0m\u001b[0;34m.\u001b[0m\u001b[0meval\u001b[0m\u001b[0;34m(\u001b[0m\u001b[0mp\u001b[0m\u001b[0;34m)\u001b[0m\u001b[0;34m\u001b[0m\u001b[0;34m\u001b[0m\u001b[0m\n\u001b[0m\u001b[1;32m    460\u001b[0m         \u001b[0;32mreturn\u001b[0m \u001b[0mconversion\u001b[0m\u001b[0;34m.\u001b[0m\u001b[0mget_conversion\u001b[0m\u001b[0;34m(\u001b[0m\u001b[0;34m)\u001b[0m\u001b[0;34m.\u001b[0m\u001b[0mrpy2py\u001b[0m\u001b[0;34m(\u001b[0m\u001b[0mres\u001b[0m\u001b[0;34m)\u001b[0m\u001b[0;34m\u001b[0m\u001b[0;34m\u001b[0m\u001b[0m\n",
      "\u001b[0;32m~/opt/miniconda3/lib/python3.9/site-packages/rpy2/robjects/functions.py\u001b[0m in \u001b[0;36m__call__\u001b[0;34m(self, *args, **kwargs)\u001b[0m\n\u001b[1;32m    201\u001b[0m                 \u001b[0mkwargs\u001b[0m\u001b[0;34m[\u001b[0m\u001b[0mr_k\u001b[0m\u001b[0;34m]\u001b[0m \u001b[0;34m=\u001b[0m \u001b[0mv\u001b[0m\u001b[0;34m\u001b[0m\u001b[0;34m\u001b[0m\u001b[0m\n\u001b[0;32m--> 202\u001b[0;31m         return (super(SignatureTranslatedFunction, self)\n\u001b[0m\u001b[1;32m    203\u001b[0m                 .__call__(*args, **kwargs))\n",
      "\u001b[0;32m~/opt/miniconda3/lib/python3.9/site-packages/rpy2/robjects/functions.py\u001b[0m in \u001b[0;36m__call__\u001b[0;34m(self, *args, **kwargs)\u001b[0m\n\u001b[1;32m    124\u001b[0m                 \u001b[0mnew_kwargs\u001b[0m\u001b[0;34m[\u001b[0m\u001b[0mk\u001b[0m\u001b[0;34m]\u001b[0m \u001b[0;34m=\u001b[0m \u001b[0mcv\u001b[0m\u001b[0;34m.\u001b[0m\u001b[0mpy2rpy\u001b[0m\u001b[0;34m(\u001b[0m\u001b[0mv\u001b[0m\u001b[0;34m)\u001b[0m\u001b[0;34m\u001b[0m\u001b[0;34m\u001b[0m\u001b[0m\n\u001b[0;32m--> 125\u001b[0;31m         \u001b[0mres\u001b[0m \u001b[0;34m=\u001b[0m \u001b[0msuper\u001b[0m\u001b[0;34m(\u001b[0m\u001b[0mFunction\u001b[0m\u001b[0;34m,\u001b[0m \u001b[0mself\u001b[0m\u001b[0;34m)\u001b[0m\u001b[0;34m.\u001b[0m\u001b[0m__call__\u001b[0m\u001b[0;34m(\u001b[0m\u001b[0;34m*\u001b[0m\u001b[0mnew_args\u001b[0m\u001b[0;34m,\u001b[0m \u001b[0;34m**\u001b[0m\u001b[0mnew_kwargs\u001b[0m\u001b[0;34m)\u001b[0m\u001b[0;34m\u001b[0m\u001b[0;34m\u001b[0m\u001b[0m\n\u001b[0m\u001b[1;32m    126\u001b[0m         \u001b[0mres\u001b[0m \u001b[0;34m=\u001b[0m \u001b[0mcv\u001b[0m\u001b[0;34m.\u001b[0m\u001b[0mrpy2py\u001b[0m\u001b[0;34m(\u001b[0m\u001b[0mres\u001b[0m\u001b[0;34m)\u001b[0m\u001b[0;34m\u001b[0m\u001b[0;34m\u001b[0m\u001b[0m\n",
      "\u001b[0;32m~/opt/miniconda3/lib/python3.9/site-packages/rpy2/rinterface_lib/conversion.py\u001b[0m in \u001b[0;36m_\u001b[0;34m(*args, **kwargs)\u001b[0m\n\u001b[1;32m     44\u001b[0m     \u001b[0;32mdef\u001b[0m \u001b[0m_\u001b[0m\u001b[0;34m(\u001b[0m\u001b[0;34m*\u001b[0m\u001b[0margs\u001b[0m\u001b[0;34m,\u001b[0m \u001b[0;34m**\u001b[0m\u001b[0mkwargs\u001b[0m\u001b[0;34m)\u001b[0m\u001b[0;34m:\u001b[0m\u001b[0;34m\u001b[0m\u001b[0;34m\u001b[0m\u001b[0m\n\u001b[0;32m---> 45\u001b[0;31m         \u001b[0mcdata\u001b[0m \u001b[0;34m=\u001b[0m \u001b[0mfunction\u001b[0m\u001b[0;34m(\u001b[0m\u001b[0;34m*\u001b[0m\u001b[0margs\u001b[0m\u001b[0;34m,\u001b[0m \u001b[0;34m**\u001b[0m\u001b[0mkwargs\u001b[0m\u001b[0;34m)\u001b[0m\u001b[0;34m\u001b[0m\u001b[0;34m\u001b[0m\u001b[0m\n\u001b[0m\u001b[1;32m     46\u001b[0m         \u001b[0;31m# TODO: test cdata is of the expected CType\u001b[0m\u001b[0;34m\u001b[0m\u001b[0;34m\u001b[0m\u001b[0m\n",
      "\u001b[0;32m~/opt/miniconda3/lib/python3.9/site-packages/rpy2/rinterface.py\u001b[0m in \u001b[0;36m__call__\u001b[0;34m(self, *args, **kwargs)\u001b[0m\n\u001b[1;32m    812\u001b[0m             \u001b[0;32mif\u001b[0m \u001b[0merror_occured\u001b[0m\u001b[0;34m[\u001b[0m\u001b[0;36m0\u001b[0m\u001b[0;34m]\u001b[0m\u001b[0;34m:\u001b[0m\u001b[0;34m\u001b[0m\u001b[0;34m\u001b[0m\u001b[0m\n\u001b[0;32m--> 813\u001b[0;31m                 \u001b[0;32mraise\u001b[0m \u001b[0membedded\u001b[0m\u001b[0;34m.\u001b[0m\u001b[0mRRuntimeError\u001b[0m\u001b[0;34m(\u001b[0m\u001b[0m_rinterface\u001b[0m\u001b[0;34m.\u001b[0m\u001b[0m_geterrmessage\u001b[0m\u001b[0;34m(\u001b[0m\u001b[0;34m)\u001b[0m\u001b[0;34m)\u001b[0m\u001b[0;34m\u001b[0m\u001b[0;34m\u001b[0m\u001b[0m\n\u001b[0m\u001b[1;32m    814\u001b[0m         \u001b[0;32mreturn\u001b[0m \u001b[0mres\u001b[0m\u001b[0;34m\u001b[0m\u001b[0;34m\u001b[0m\u001b[0m\n",
      "\u001b[0;31mRRuntimeError\u001b[0m: Error in smooth.spline(lambda, pi0, df = smooth.df) : \n  missing or infinite values in inputs are not allowed\n",
      "\nDuring handling of the above exception, another exception occurred:\n",
      "\u001b[0;31mRInterpreterError\u001b[0m                         Traceback (most recent call last)",
      "\u001b[0;32m/var/folders/1t/rgnnsnln1v98rl8dvwy4q2kh0000gn/T/ipykernel_90963/2735713104.py\u001b[0m in \u001b[0;36m<module>\u001b[0;34m\u001b[0m\n\u001b[0;32m----> 1\u001b[0;31m \u001b[0mget_ipython\u001b[0m\u001b[0;34m(\u001b[0m\u001b[0;34m)\u001b[0m\u001b[0;34m.\u001b[0m\u001b[0mrun_cell_magic\u001b[0m\u001b[0;34m(\u001b[0m\u001b[0;34m'R'\u001b[0m\u001b[0;34m,\u001b[0m \u001b[0;34m''\u001b[0m\u001b[0;34m,\u001b[0m \u001b[0;34m'\\n### Calculate q-values:\\n\\nr <- all_fits\\n\\n# Given a set of p-values, the qvalue object can be calculated by using the qvalue function:\\n\\n# Null Simulations:\\np_null <- r$bb_null\\nqobj_null <- qvalue(p = p_null)\\n\\n# Observed Data:\\np_data <- r$bb_test\\nqobj_data <- qvalue(p = p_data)\\n\\n# Once the qvalue object is created, estimates of the q-values, the proportion of true null hypotheses, and the local false discovery rates can be accessed from qobj:\\n\\n# Null Simulations:\\nnull_qvalues <- qobj_null$qvalues # q-values\\nprint(null_qvalues)\\nnull_pi0 <- qobj_null$pi0 # proportion true null hypotheses\\nnull_lfdr <- qobj_null$lfdr # local false discovery rates\\n\\n# Observed Data:\\ndata_qvalues <- qobj_data$qvalues # q-values\\ndata_pi0 <- qobj_data$pi0 # proportion true null hypotheses\\ndata_lfdr <- qobj_data$lfdr # local false discovery rates\\n\\nr_qobj <- cbind(r, null_qvalues, null_lfdr, data_qvalues, data_lfdr)\\n\\nprint(r_qobj)\\n'\u001b[0m\u001b[0;34m)\u001b[0m\u001b[0;34m\u001b[0m\u001b[0;34m\u001b[0m\u001b[0m\n\u001b[0m",
      "\u001b[0;32m~/opt/miniconda3/lib/python3.9/site-packages/IPython/core/interactiveshell.py\u001b[0m in \u001b[0;36mrun_cell_magic\u001b[0;34m(self, magic_name, line, cell)\u001b[0m\n\u001b[1;32m   2404\u001b[0m             \u001b[0;32mwith\u001b[0m \u001b[0mself\u001b[0m\u001b[0;34m.\u001b[0m\u001b[0mbuiltin_trap\u001b[0m\u001b[0;34m:\u001b[0m\u001b[0;34m\u001b[0m\u001b[0;34m\u001b[0m\u001b[0m\n\u001b[1;32m   2405\u001b[0m                 \u001b[0margs\u001b[0m \u001b[0;34m=\u001b[0m \u001b[0;34m(\u001b[0m\u001b[0mmagic_arg_s\u001b[0m\u001b[0;34m,\u001b[0m \u001b[0mcell\u001b[0m\u001b[0;34m)\u001b[0m\u001b[0;34m\u001b[0m\u001b[0;34m\u001b[0m\u001b[0m\n\u001b[0;32m-> 2406\u001b[0;31m                 \u001b[0mresult\u001b[0m \u001b[0;34m=\u001b[0m \u001b[0mfn\u001b[0m\u001b[0;34m(\u001b[0m\u001b[0;34m*\u001b[0m\u001b[0margs\u001b[0m\u001b[0;34m,\u001b[0m \u001b[0;34m**\u001b[0m\u001b[0mkwargs\u001b[0m\u001b[0;34m)\u001b[0m\u001b[0;34m\u001b[0m\u001b[0;34m\u001b[0m\u001b[0m\n\u001b[0m\u001b[1;32m   2407\u001b[0m             \u001b[0;32mreturn\u001b[0m \u001b[0mresult\u001b[0m\u001b[0;34m\u001b[0m\u001b[0;34m\u001b[0m\u001b[0m\n\u001b[1;32m   2408\u001b[0m \u001b[0;34m\u001b[0m\u001b[0m\n",
      "\u001b[0;32m~/opt/miniconda3/lib/python3.9/site-packages/decorator.py\u001b[0m in \u001b[0;36mfun\u001b[0;34m(*args, **kw)\u001b[0m\n\u001b[1;32m    230\u001b[0m             \u001b[0;32mif\u001b[0m \u001b[0;32mnot\u001b[0m \u001b[0mkwsyntax\u001b[0m\u001b[0;34m:\u001b[0m\u001b[0;34m\u001b[0m\u001b[0;34m\u001b[0m\u001b[0m\n\u001b[1;32m    231\u001b[0m                 \u001b[0margs\u001b[0m\u001b[0;34m,\u001b[0m \u001b[0mkw\u001b[0m \u001b[0;34m=\u001b[0m \u001b[0mfix\u001b[0m\u001b[0;34m(\u001b[0m\u001b[0margs\u001b[0m\u001b[0;34m,\u001b[0m \u001b[0mkw\u001b[0m\u001b[0;34m,\u001b[0m \u001b[0msig\u001b[0m\u001b[0;34m)\u001b[0m\u001b[0;34m\u001b[0m\u001b[0;34m\u001b[0m\u001b[0m\n\u001b[0;32m--> 232\u001b[0;31m             \u001b[0;32mreturn\u001b[0m \u001b[0mcaller\u001b[0m\u001b[0;34m(\u001b[0m\u001b[0mfunc\u001b[0m\u001b[0;34m,\u001b[0m \u001b[0;34m*\u001b[0m\u001b[0;34m(\u001b[0m\u001b[0mextras\u001b[0m \u001b[0;34m+\u001b[0m \u001b[0margs\u001b[0m\u001b[0;34m)\u001b[0m\u001b[0;34m,\u001b[0m \u001b[0;34m**\u001b[0m\u001b[0mkw\u001b[0m\u001b[0;34m)\u001b[0m\u001b[0;34m\u001b[0m\u001b[0;34m\u001b[0m\u001b[0m\n\u001b[0m\u001b[1;32m    233\u001b[0m     \u001b[0mfun\u001b[0m\u001b[0;34m.\u001b[0m\u001b[0m__name__\u001b[0m \u001b[0;34m=\u001b[0m \u001b[0mfunc\u001b[0m\u001b[0;34m.\u001b[0m\u001b[0m__name__\u001b[0m\u001b[0;34m\u001b[0m\u001b[0;34m\u001b[0m\u001b[0m\n\u001b[1;32m    234\u001b[0m     \u001b[0mfun\u001b[0m\u001b[0;34m.\u001b[0m\u001b[0m__doc__\u001b[0m \u001b[0;34m=\u001b[0m \u001b[0mfunc\u001b[0m\u001b[0;34m.\u001b[0m\u001b[0m__doc__\u001b[0m\u001b[0;34m\u001b[0m\u001b[0;34m\u001b[0m\u001b[0m\n",
      "\u001b[0;32m~/opt/miniconda3/lib/python3.9/site-packages/IPython/core/magic.py\u001b[0m in \u001b[0;36m<lambda>\u001b[0;34m(f, *a, **k)\u001b[0m\n\u001b[1;32m    185\u001b[0m     \u001b[0;31m# but it's overkill for just that one bit of state.\u001b[0m\u001b[0;34m\u001b[0m\u001b[0;34m\u001b[0m\u001b[0m\n\u001b[1;32m    186\u001b[0m     \u001b[0;32mdef\u001b[0m \u001b[0mmagic_deco\u001b[0m\u001b[0;34m(\u001b[0m\u001b[0marg\u001b[0m\u001b[0;34m)\u001b[0m\u001b[0;34m:\u001b[0m\u001b[0;34m\u001b[0m\u001b[0;34m\u001b[0m\u001b[0m\n\u001b[0;32m--> 187\u001b[0;31m         \u001b[0mcall\u001b[0m \u001b[0;34m=\u001b[0m \u001b[0;32mlambda\u001b[0m \u001b[0mf\u001b[0m\u001b[0;34m,\u001b[0m \u001b[0;34m*\u001b[0m\u001b[0ma\u001b[0m\u001b[0;34m,\u001b[0m \u001b[0;34m**\u001b[0m\u001b[0mk\u001b[0m\u001b[0;34m:\u001b[0m \u001b[0mf\u001b[0m\u001b[0;34m(\u001b[0m\u001b[0;34m*\u001b[0m\u001b[0ma\u001b[0m\u001b[0;34m,\u001b[0m \u001b[0;34m**\u001b[0m\u001b[0mk\u001b[0m\u001b[0;34m)\u001b[0m\u001b[0;34m\u001b[0m\u001b[0;34m\u001b[0m\u001b[0m\n\u001b[0m\u001b[1;32m    188\u001b[0m \u001b[0;34m\u001b[0m\u001b[0m\n\u001b[1;32m    189\u001b[0m         \u001b[0;32mif\u001b[0m \u001b[0mcallable\u001b[0m\u001b[0;34m(\u001b[0m\u001b[0marg\u001b[0m\u001b[0;34m)\u001b[0m\u001b[0;34m:\u001b[0m\u001b[0;34m\u001b[0m\u001b[0;34m\u001b[0m\u001b[0m\n",
      "\u001b[0;32m~/opt/miniconda3/lib/python3.9/site-packages/rpy2/ipython/rmagic.py\u001b[0m in \u001b[0;36mR\u001b[0;34m(self, line, cell, local_ns)\u001b[0m\n\u001b[1;32m    796\u001b[0m             \u001b[0;32mif\u001b[0m \u001b[0;32mnot\u001b[0m \u001b[0me\u001b[0m\u001b[0;34m.\u001b[0m\u001b[0mstdout\u001b[0m\u001b[0;34m.\u001b[0m\u001b[0mendswith\u001b[0m\u001b[0;34m(\u001b[0m\u001b[0me\u001b[0m\u001b[0;34m.\u001b[0m\u001b[0merr\u001b[0m\u001b[0;34m)\u001b[0m\u001b[0;34m:\u001b[0m\u001b[0;34m\u001b[0m\u001b[0;34m\u001b[0m\u001b[0m\n\u001b[1;32m    797\u001b[0m                 \u001b[0mprint\u001b[0m\u001b[0;34m(\u001b[0m\u001b[0me\u001b[0m\u001b[0;34m.\u001b[0m\u001b[0merr\u001b[0m\u001b[0;34m)\u001b[0m\u001b[0;34m\u001b[0m\u001b[0;34m\u001b[0m\u001b[0m\n\u001b[0;32m--> 798\u001b[0;31m             \u001b[0;32mraise\u001b[0m \u001b[0me\u001b[0m\u001b[0;34m\u001b[0m\u001b[0;34m\u001b[0m\u001b[0m\n\u001b[0m\u001b[1;32m    799\u001b[0m         \u001b[0;32mfinally\u001b[0m\u001b[0;34m:\u001b[0m\u001b[0;34m\u001b[0m\u001b[0;34m\u001b[0m\u001b[0m\n\u001b[1;32m    800\u001b[0m             \u001b[0;32mif\u001b[0m \u001b[0mself\u001b[0m\u001b[0;34m.\u001b[0m\u001b[0mdevice\u001b[0m \u001b[0;32min\u001b[0m \u001b[0;34m[\u001b[0m\u001b[0;34m'png'\u001b[0m\u001b[0;34m,\u001b[0m \u001b[0;34m'svg'\u001b[0m\u001b[0;34m]\u001b[0m\u001b[0;34m:\u001b[0m\u001b[0;34m\u001b[0m\u001b[0;34m\u001b[0m\u001b[0m\n",
      "\u001b[0;32m~/opt/miniconda3/lib/python3.9/site-packages/rpy2/ipython/rmagic.py\u001b[0m in \u001b[0;36mR\u001b[0;34m(self, line, cell, local_ns)\u001b[0m\n\u001b[1;32m    776\u001b[0m                     \u001b[0mreturn_output\u001b[0m \u001b[0;34m=\u001b[0m \u001b[0;32mFalse\u001b[0m\u001b[0;34m\u001b[0m\u001b[0;34m\u001b[0m\u001b[0m\n\u001b[1;32m    777\u001b[0m             \u001b[0;32melse\u001b[0m\u001b[0;34m:\u001b[0m\u001b[0;34m\u001b[0m\u001b[0;34m\u001b[0m\u001b[0m\n\u001b[0;32m--> 778\u001b[0;31m                 \u001b[0mtext_result\u001b[0m\u001b[0;34m,\u001b[0m \u001b[0mresult\u001b[0m\u001b[0;34m,\u001b[0m \u001b[0mvisible\u001b[0m \u001b[0;34m=\u001b[0m \u001b[0mself\u001b[0m\u001b[0;34m.\u001b[0m\u001b[0meval\u001b[0m\u001b[0;34m(\u001b[0m\u001b[0mcode\u001b[0m\u001b[0;34m)\u001b[0m\u001b[0;34m\u001b[0m\u001b[0;34m\u001b[0m\u001b[0m\n\u001b[0m\u001b[1;32m    779\u001b[0m                 \u001b[0mtext_output\u001b[0m \u001b[0;34m+=\u001b[0m \u001b[0mtext_result\u001b[0m\u001b[0;34m\u001b[0m\u001b[0;34m\u001b[0m\u001b[0m\n\u001b[1;32m    780\u001b[0m                 \u001b[0;32mif\u001b[0m \u001b[0mvisible\u001b[0m\u001b[0;34m:\u001b[0m\u001b[0;34m\u001b[0m\u001b[0;34m\u001b[0m\u001b[0m\n",
      "\u001b[0;32m~/opt/miniconda3/lib/python3.9/site-packages/rpy2/ipython/rmagic.py\u001b[0m in \u001b[0;36meval\u001b[0;34m(self, code)\u001b[0m\n\u001b[1;32m    285\u001b[0m                 \u001b[0;31m# Otherwise next return seems to have copy of error.\u001b[0m\u001b[0;34m\u001b[0m\u001b[0;34m\u001b[0m\u001b[0m\n\u001b[1;32m    286\u001b[0m                 \u001b[0mwarning_or_other_msg\u001b[0m \u001b[0;34m=\u001b[0m \u001b[0mself\u001b[0m\u001b[0;34m.\u001b[0m\u001b[0mflush\u001b[0m\u001b[0;34m(\u001b[0m\u001b[0;34m)\u001b[0m\u001b[0;34m\u001b[0m\u001b[0;34m\u001b[0m\u001b[0m\n\u001b[0;32m--> 287\u001b[0;31m                 raise RInterpreterError(code, str(exception),\n\u001b[0m\u001b[1;32m    288\u001b[0m                                         warning_or_other_msg)\n\u001b[1;32m    289\u001b[0m             \u001b[0mtext_output\u001b[0m \u001b[0;34m=\u001b[0m \u001b[0mself\u001b[0m\u001b[0;34m.\u001b[0m\u001b[0mflush\u001b[0m\u001b[0;34m(\u001b[0m\u001b[0;34m)\u001b[0m\u001b[0;34m\u001b[0m\u001b[0;34m\u001b[0m\u001b[0m\n",
      "\u001b[0;31mRInterpreterError\u001b[0m: Failed to parse and evaluate line '\\n### Calculate q-values:\\n\\nr <- all_fits\\n\\n# Given a set of p-values, the qvalue object can be calculated by using the qvalue function:\\n\\n# Null Simulations:\\np_null <- r$bb_null\\nqobj_null <- qvalue(p = p_null)\\n\\n# Observed Data:\\np_data <- r$bb_test\\nqobj_data <- qvalue(p = p_data)\\n\\n# Once the qvalue object is created, estimates of the q-values, the proportion of true null hypotheses, and the local false discovery rates can be accessed from qobj:\\n\\n# Null Simulations:\\nnull_qvalues <- qobj_null$qvalues # q-values\\nprint(null_qvalues)\\nnull_pi0 <- qobj_null$pi0 # proportion true null hypotheses\\nnull_lfdr <- qobj_null$lfdr # local false discovery rates\\n\\n# Observed Data:\\ndata_qvalues <- qobj_data$qvalues # q-values\\ndata_pi0 <- qobj_data$pi0 # proportion true null hypotheses\\ndata_lfdr <- qobj_data$lfdr # local false discovery rates\\n\\nr_qobj <- cbind(r, null_qvalues, null_lfdr, data_qvalues, data_lfdr)\\n\\nprint(r_qobj)\\n'.\nR error message: 'Error in smooth.spline(lambda, pi0, df = smooth.df) : \\n  missing or infinite values in inputs are not allowed'"
     ]
    }
   ],
   "source": [
    "%%R\n",
    "\n",
    "### Calculate q-values:\n",
    "### NOTE: may not work on small numbers of genes. TODO: add file that has a couple thousand genes to assess\n",
    "\n",
    "r <- all_fits\n",
    "\n",
    "# Given a set of p-values, the qvalue object can be calculated by using the qvalue function:\n",
    "\n",
    "# Null Simulations:\n",
    "p_null <- r$bb_null\n",
    "qobj_null <- qvalue(p = p_null)\n",
    "\n",
    "# Observed Data:\n",
    "p_data <- r$bb_test\n",
    "qobj_data <- qvalue(p = p_data)\n",
    "\n",
    "# Once the qvalue object is created, estimates of the q-values, the proportion of true null hypotheses, and the local false discovery rates can be accessed from qobj:\n",
    "\n",
    "# Null Simulations:\n",
    "null_qvalues <- qobj_null$qvalues # q-values\n",
    "null_pi0 <- qobj_null$pi0 # proportion true null hypotheses\n",
    "null_lfdr <- qobj_null$lfdr # local false discovery rates\n",
    "\n",
    "# Observed Data:\n",
    "data_qvalues <- qobj_data$qvalues # q-values\n",
    "data_pi0 <- qobj_data$pi0 # proportion true null hypotheses\n",
    "data_lfdr <- qobj_data$lfdr # local false discovery rates\n",
    "\n",
    "r_qobj <- cbind(r, null_qvalues, null_lfdr, data_qvalues, data_lfdr)\n",
    "\n",
    "print(r_qobj)"
   ]
  }
 ],
 "metadata": {
  "kernelspec": {
   "display_name": "Python 3 (ipykernel)",
   "language": "python",
   "name": "python3"
  },
  "language_info": {
   "codemirror_mode": {
    "name": "ipython",
    "version": 3
   },
   "file_extension": ".py",
   "mimetype": "text/x-python",
   "name": "python",
   "nbconvert_exporter": "python",
   "pygments_lexer": "ipython3",
   "version": "3.9.7"
  }
 },
 "nbformat": 4,
 "nbformat_minor": 5
}
