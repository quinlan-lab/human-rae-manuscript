{
 "cells": [
  {
   "cell_type": "markdown",
   "id": "91a70699",
   "metadata": {},
   "source": [
    "# Random Allelic Expression in the Human Body\n",
    "### Stephanie N. Kravitz, Aaron R. Quinlan, Christopher Gregg\n",
    "\n",
    "### Prior to recreating figures, first import necessary libraries and set global plot aesthetics."
   ]
  },
  {
   "cell_type": "code",
   "execution_count": null,
   "id": "33dfc2a3",
   "metadata": {},
   "outputs": [],
   "source": [
    "import pandas as pd\n",
    "import matplotlib.pyplot as plt\n",
    "import seaborn as sns\n",
    "import numpy as np\n",
    "import scipy.stats as stats\n",
    "\n",
    "plt.rcParams['pdf.fonttype'] = 42\n",
    "\n",
    "%matplotlib inline\n",
    "%matplotlib nbagg\n",
    "\n",
    "%cd /Users/snkravitz/Documents/Projects_and_Data/GTEx_HaplotypeExpression/bb_test_results/qvalues/gene_allele_ratios"
   ]
  },
  {
   "cell_type": "markdown",
   "id": "e894854f",
   "metadata": {},
   "source": [
    "## Figure 3A: hc-RAE Gene Ontology Enrichments"
   ]
  },
  {
   "cell_type": "code",
   "execution_count": null,
   "id": "3e6efd55",
   "metadata": {},
   "outputs": [],
   "source": []
  },
  {
   "cell_type": "markdown",
   "id": "3a1c463a",
   "metadata": {},
   "source": [
    "## Figure 3A: hc-Biallelic Gene Ontology Enrichments"
   ]
  },
  {
   "cell_type": "code",
   "execution_count": null,
   "id": "b88abd6c",
   "metadata": {},
   "outputs": [],
   "source": []
  },
  {
   "cell_type": "markdown",
   "id": "4599a0f5",
   "metadata": {},
   "source": [
    "## Figure 3B: hc-RAE Disease Ontology Enrichment"
   ]
  },
  {
   "cell_type": "code",
   "execution_count": null,
   "id": "9d88afd9",
   "metadata": {},
   "outputs": [],
   "source": []
  },
  {
   "cell_type": "markdown",
   "id": "f8057341",
   "metadata": {},
   "source": [
    "## Figure 3C: RAE and Biallelic gene enrichments for essential and non-essential genes (Hart et. al, 2017)"
   ]
  },
  {
   "cell_type": "code",
   "execution_count": null,
   "id": "91280bcb",
   "metadata": {},
   "outputs": [],
   "source": []
  },
  {
   "cell_type": "markdown",
   "id": "26e78bf1",
   "metadata": {},
   "source": [
    "## Figure 3D: RAE and Biallelic gene enrichments for LoF tolerant genes (Consortium et al., 2016)"
   ]
  },
  {
   "cell_type": "code",
   "execution_count": null,
   "id": "12e4bbcd",
   "metadata": {},
   "outputs": [],
   "source": []
  },
  {
   "attachments": {},
   "cell_type": "markdown",
   "id": "4499d768",
   "metadata": {},
   "source": [
    "## Figure 3E: pLI scores for RAE and Biallelic genes (Karczewski et al., 2020)"
   ]
  },
  {
   "cell_type": "code",
   "execution_count": null,
   "id": "ef2ed35c",
   "metadata": {},
   "outputs": [],
   "source": []
  },
  {
   "cell_type": "markdown",
   "id": "874cbcd2",
   "metadata": {},
   "source": [
    "## Figure 3F: phastCons Conservation Scores for RAE and Biallelic genes"
   ]
  },
  {
   "cell_type": "code",
   "execution_count": null,
   "id": "0a42a163",
   "metadata": {},
   "outputs": [],
   "source": []
  },
  {
   "cell_type": "markdown",
   "id": "9626a4e2",
   "metadata": {},
   "source": [
    "## Figure 3G: RAE and Biallelic genes nearest to human Accelerated Regions (hARs)"
   ]
  },
  {
   "cell_type": "code",
   "execution_count": null,
   "id": "f0a674a4",
   "metadata": {},
   "outputs": [],
   "source": []
  },
  {
   "cell_type": "markdown",
   "id": "55606f50",
   "metadata": {},
   "source": [
    "## Figure 3H: RAE vs. Biallelic gene enrichment for genes nearest to GWAS hits "
   ]
  },
  {
   "cell_type": "code",
   "execution_count": null,
   "id": "9410090f",
   "metadata": {},
   "outputs": [],
   "source": []
  },
  {
   "cell_type": "markdown",
   "id": "558620cd",
   "metadata": {},
   "source": [
    "## Figure 3I: RAE vs. Biallelic gene enrichment for OMIM disease genes with autosomal dominant or recessive modes of inheritance"
   ]
  }
 ],
 "metadata": {
  "kernelspec": {
   "display_name": "Python 3 (ipykernel)",
   "language": "python",
   "name": "python3"
  },
  "language_info": {
   "codemirror_mode": {
    "name": "ipython",
    "version": 3
   },
   "file_extension": ".py",
   "mimetype": "text/x-python",
   "name": "python",
   "nbconvert_exporter": "python",
   "pygments_lexer": "ipython3",
   "version": "3.9.7"
  }
 },
 "nbformat": 4,
 "nbformat_minor": 5
}
