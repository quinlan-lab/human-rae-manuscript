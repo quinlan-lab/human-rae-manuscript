{
 "cells": [
  {
   "cell_type": "markdown",
   "id": "4a62c9d7",
   "metadata": {},
   "source": [
    "# Random Allelic Expression in the Human Body\n",
    "### Stephanie N. Kravitz, Aaron R. Quinlan, Christopher Gregg\n",
    "\n",
    "### Prior to recreating figures, first import necessary libraries and set global plot aesthetics."
   ]
  },
  {
   "cell_type": "code",
   "execution_count": null,
   "id": "e5dc98ee",
   "metadata": {},
   "outputs": [],
   "source": [
    "import pandas as pd\n",
    "import matplotlib.pyplot as plt\n",
    "import seaborn as sns\n",
    "import numpy as np\n",
    "import scipy.stats as stats\n",
    "\n",
    "plt.rcParams['pdf.fonttype'] = 42\n",
    "\n",
    "%matplotlib inline\n",
    "%matplotlib nbagg\n",
    "\n",
    "%cd /Users/snkravitz/Documents/Projects_and_Data/GTEx_HaplotypeExpression/bb_test_results/qvalues/gene_allele_ratios"
   ]
  },
  {
   "cell_type": "markdown",
   "id": "3158fb3b",
   "metadata": {},
   "source": [
    "## Figure 4B: Gene Overlap in Humans"
   ]
  },
  {
   "cell_type": "code",
   "execution_count": null,
   "id": "e34e5338",
   "metadata": {},
   "outputs": [],
   "source": []
  },
  {
   "cell_type": "markdown",
   "id": "1f0dc9d9",
   "metadata": {},
   "source": [
    "## Figure 4C: Gene Overlap in Mouse (Huang et. al, 2017)"
   ]
  },
  {
   "cell_type": "code",
   "execution_count": null,
   "id": "1b1cf02e",
   "metadata": {},
   "outputs": [],
   "source": []
  },
  {
   "cell_type": "markdown",
   "id": "7d31979e",
   "metadata": {},
   "source": [
    "## Figure 4F: ChromHMM Core Marks densities in RAE and Biallelic genes"
   ]
  },
  {
   "cell_type": "code",
   "execution_count": null,
   "id": "ee22360e",
   "metadata": {},
   "outputs": [],
   "source": []
  },
  {
   "cell_type": "markdown",
   "id": "bf9e9e1b",
   "metadata": {},
   "source": [
    "## Figure 4G:"
   ]
  },
  {
   "cell_type": "code",
   "execution_count": null,
   "id": "8719f27f",
   "metadata": {},
   "outputs": [],
   "source": []
  },
  {
   "cell_type": "markdown",
   "id": "baa2b797",
   "metadata": {},
   "source": [
    "## Figure 4H:"
   ]
  },
  {
   "cell_type": "code",
   "execution_count": null,
   "id": "a1115694",
   "metadata": {},
   "outputs": [],
   "source": []
  },
  {
   "cell_type": "markdown",
   "id": "2d06a78b",
   "metadata": {},
   "source": [
    "## Figure 4I:"
   ]
  },
  {
   "cell_type": "code",
   "execution_count": null,
   "id": "98ab0b91",
   "metadata": {},
   "outputs": [],
   "source": []
  },
  {
   "cell_type": "markdown",
   "id": "fa28bf99",
   "metadata": {},
   "source": [
    "## Figure 4J:"
   ]
  },
  {
   "cell_type": "code",
   "execution_count": null,
   "id": "0a0febb4",
   "metadata": {},
   "outputs": [],
   "source": []
  },
  {
   "cell_type": "markdown",
   "id": "1a57dd5d",
   "metadata": {},
   "source": [
    "## Figure 4K:"
   ]
  }
 ],
 "metadata": {
  "kernelspec": {
   "display_name": "Python 3 (ipykernel)",
   "language": "python",
   "name": "python3"
  },
  "language_info": {
   "codemirror_mode": {
    "name": "ipython",
    "version": 3
   },
   "file_extension": ".py",
   "mimetype": "text/x-python",
   "name": "python",
   "nbconvert_exporter": "python",
   "pygments_lexer": "ipython3",
   "version": "3.9.7"
  }
 },
 "nbformat": 4,
 "nbformat_minor": 5
}
